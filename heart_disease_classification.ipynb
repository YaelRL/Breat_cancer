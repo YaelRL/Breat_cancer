{
  "nbformat": 4,
  "nbformat_minor": 0,
  "metadata": {
    "colab": {
      "provenance": [],
      "collapsed_sections": [
        "P4FoXVCgaJO5",
        "Mk2oZ5O8PHmk"
      ]
    },
    "kernelspec": {
      "name": "python3",
      "display_name": "Python 3"
    },
    "language_info": {
      "name": "python"
    }
  },
  "cells": [
    {
      "cell_type": "markdown",
      "source": [
        "This is a heart disease classification project. The dataset contains 21 features and a binary target. There are +22K rows, of which we used 10K."
      ],
      "metadata": {
        "id": "ArfClMlVQ9Y5"
      }
    },
    {
      "cell_type": "code",
      "source": [
        "#@title Imports\n",
        "\n",
        "import os\n",
        "import pandas as pd\n",
        "import numpy as np\n",
        "import seaborn as sns\n",
        "import sklearn\n",
        "\n",
        "%matplotlib inline\n",
        "\n",
        "#plotting/ EDA\n",
        "import matplotlib as mpl\n",
        "import matplotlib.pyplot as plt\n",
        "from matplotlib.pyplot import figure\n",
        "!pip install bubble_plot\n",
        "import bubble_plot\n",
        "from bubble_plot.utils import get_most_correlated_variables, plot_correlation_matrix\n",
        "from pandas.plotting import scatter_matrix\n",
        "import scipy\n",
        "from scipy.stats import boxcox \n",
        "import tableone\n",
        "from tableone import TableOne \n",
        "\n",
        "#pre-processing\n",
        "from sklearn.pipeline import Pipeline\n",
        "from sklearn.impute import SimpleImputer\n",
        "from sklearn.preprocessing import MinMaxScaler\n",
        "from sklearn.compose import ColumnTransformer\n",
        "\n",
        "# model fitting \n",
        "from sklearn.linear_model import LogisticRegression\n",
        "from sklearn.svm import LinearSVC\n",
        "from sklearn.svm import SVC\n",
        "import xgboost\n",
        "from xgboost import XGBClassifier\n",
        "from sklearn.neighbors import KNeighborsClassifier\n",
        "from sklearn.ensemble import RandomForestClassifier\n",
        "import imblean\n",
        "from imblearn.ensemble import RandomForestClassifier\n",
        "from imblearn.ensemble import EasyEnsembleClassifier\n",
        "from imblearn.over_sampling import SMOTENC #SMOTE for Nominal and Continuous features\n",
        "from imblearn.under_sampling import RandomUnderSampler\n",
        "from sklearn.model_selection import GridSearchCV\n",
        "\n",
        "# performance evaluation\n",
        "from sklearn import metrics\n",
        "from sklearn.metrics import f1_score, confusion_matrix, precision_score, recall_score, roc_auc_score, roc_curve, classification_report\n",
        "from sklearn.model_selection import StratifiedShuffleSplit\n",
        "from sklearn.model_selection import RepeatedStratifiedKFold\n",
        "from sklearn.model_selection import cross_val_score\n",
        "\n",
        "\n"
      ],
      "metadata": {
        "id": "V5C2ZL77XmPS"
      },
      "execution_count": null,
      "outputs": []
    },
    {
      "cell_type": "code",
      "source": [
        "#@title Connect to Drive\n",
        "from google.colab import drive\n",
        "drive.mount('/content/drive')"
      ],
      "metadata": {
        "id": "gerLAsC-XthF",
        "colab": {
          "base_uri": "https://localhost:8080/"
        },
        "outputId": "53160278-b915-49e6-8d1e-25c552cd2c06"
      },
      "execution_count": null,
      "outputs": [
        {
          "output_type": "stream",
          "name": "stdout",
          "text": [
            "Mounted at /content/drive\n"
          ]
        }
      ]
    },
    {
      "cell_type": "markdown",
      "source": [
        "# Reading the data"
      ],
      "metadata": {
        "id": "W-ZvFS-bNWr9"
      }
    },
    {
      "cell_type": "code",
      "execution_count": null,
      "metadata": {
        "id": "5ioZ8ssPWtqO"
      },
      "outputs": [],
      "source": [
        "#@title Data reading\n",
        "with open('/content/drive/My Drive/Colab Notebooks/datasets/heart_disease_data.csv', 'r') as f:\n",
        "  #data = pd.read_csv(f)\n",
        "  #reading only the first 10,000 rows and replacing column names with numbers from zero to 50\n",
        "  data = pd.read_csv(f, header=0, nrows=10000, names=[str(i) for i in range(22)])\n"
      ]
    },
    {
      "cell_type": "code",
      "source": [
        "# renaming the target variable\n",
        "data.rename(columns={'0':'target'}, inplace=True)\n",
        "data['target'].value_counts()/len(data) #heart disease= 10%\n",
        "\n",
        "\n"
      ],
      "metadata": {
        "id": "ABqumeR6rGXa",
        "colab": {
          "base_uri": "https://localhost:8080/"
        },
        "outputId": "54bc4ed9-30af-4b71-c3ed-67cc95a859d3"
      },
      "execution_count": null,
      "outputs": [
        {
          "output_type": "execute_result",
          "data": {
            "text/plain": [
              "0.0    0.899\n",
              "1.0    0.101\n",
              "Name: target, dtype: float64"
            ]
          },
          "metadata": {},
          "execution_count": 5
        }
      ]
    },
    {
      "cell_type": "markdown",
      "source": [
        "# A first look at the data structure"
      ],
      "metadata": {
        "id": "zGbm1qxbMoww"
      }
    },
    {
      "cell_type": "code",
      "source": [
        "# first glance at the features, missing data and data types\n",
        "#data.shape\n",
        "#data.info()\n",
        "#data.describe()\n",
        "#data.head()\n",
        "#data.shape[0]"
      ],
      "metadata": {
        "colab": {
          "base_uri": "https://localhost:8080/",
          "height": 206
        },
        "id": "U_h4ab-heLwN",
        "outputId": "90380d65-c2f5-4315-eb2b-41b5a7eba032"
      },
      "execution_count": null,
      "outputs": [
        {
          "output_type": "execute_result",
          "data": {
            "text/plain": [
              "    11   12   13   14    15    16   17   18    19   20   21\n",
              "0  0.0  1.0  0.0  5.0  18.0  15.0  1.0  0.0   9.0  4.0  3.0\n",
              "1  0.0  0.0  1.0  3.0   0.0   0.0  0.0  0.0   7.0  6.0  1.0\n",
              "2  0.0  1.0  1.0  5.0  30.0  30.0  1.0  0.0   9.0  4.0  8.0\n",
              "3  0.0  1.0  0.0  2.0   0.0   0.0  0.0  0.0  11.0  3.0  6.0\n",
              "4  0.0  1.0  0.0  2.0   3.0   0.0  0.0  0.0  11.0  5.0  4.0"
            ],
            "text/html": [
              "\n",
              "  <div id=\"df-5bbf0b45-0ade-4db0-8631-201143de99bd\">\n",
              "    <div class=\"colab-df-container\">\n",
              "      <div>\n",
              "<style scoped>\n",
              "    .dataframe tbody tr th:only-of-type {\n",
              "        vertical-align: middle;\n",
              "    }\n",
              "\n",
              "    .dataframe tbody tr th {\n",
              "        vertical-align: top;\n",
              "    }\n",
              "\n",
              "    .dataframe thead th {\n",
              "        text-align: right;\n",
              "    }\n",
              "</style>\n",
              "<table border=\"1\" class=\"dataframe\">\n",
              "  <thead>\n",
              "    <tr style=\"text-align: right;\">\n",
              "      <th></th>\n",
              "      <th>11</th>\n",
              "      <th>12</th>\n",
              "      <th>13</th>\n",
              "      <th>14</th>\n",
              "      <th>15</th>\n",
              "      <th>16</th>\n",
              "      <th>17</th>\n",
              "      <th>18</th>\n",
              "      <th>19</th>\n",
              "      <th>20</th>\n",
              "      <th>21</th>\n",
              "    </tr>\n",
              "  </thead>\n",
              "  <tbody>\n",
              "    <tr>\n",
              "      <th>0</th>\n",
              "      <td>0.0</td>\n",
              "      <td>1.0</td>\n",
              "      <td>0.0</td>\n",
              "      <td>5.0</td>\n",
              "      <td>18.0</td>\n",
              "      <td>15.0</td>\n",
              "      <td>1.0</td>\n",
              "      <td>0.0</td>\n",
              "      <td>9.0</td>\n",
              "      <td>4.0</td>\n",
              "      <td>3.0</td>\n",
              "    </tr>\n",
              "    <tr>\n",
              "      <th>1</th>\n",
              "      <td>0.0</td>\n",
              "      <td>0.0</td>\n",
              "      <td>1.0</td>\n",
              "      <td>3.0</td>\n",
              "      <td>0.0</td>\n",
              "      <td>0.0</td>\n",
              "      <td>0.0</td>\n",
              "      <td>0.0</td>\n",
              "      <td>7.0</td>\n",
              "      <td>6.0</td>\n",
              "      <td>1.0</td>\n",
              "    </tr>\n",
              "    <tr>\n",
              "      <th>2</th>\n",
              "      <td>0.0</td>\n",
              "      <td>1.0</td>\n",
              "      <td>1.0</td>\n",
              "      <td>5.0</td>\n",
              "      <td>30.0</td>\n",
              "      <td>30.0</td>\n",
              "      <td>1.0</td>\n",
              "      <td>0.0</td>\n",
              "      <td>9.0</td>\n",
              "      <td>4.0</td>\n",
              "      <td>8.0</td>\n",
              "    </tr>\n",
              "    <tr>\n",
              "      <th>3</th>\n",
              "      <td>0.0</td>\n",
              "      <td>1.0</td>\n",
              "      <td>0.0</td>\n",
              "      <td>2.0</td>\n",
              "      <td>0.0</td>\n",
              "      <td>0.0</td>\n",
              "      <td>0.0</td>\n",
              "      <td>0.0</td>\n",
              "      <td>11.0</td>\n",
              "      <td>3.0</td>\n",
              "      <td>6.0</td>\n",
              "    </tr>\n",
              "    <tr>\n",
              "      <th>4</th>\n",
              "      <td>0.0</td>\n",
              "      <td>1.0</td>\n",
              "      <td>0.0</td>\n",
              "      <td>2.0</td>\n",
              "      <td>3.0</td>\n",
              "      <td>0.0</td>\n",
              "      <td>0.0</td>\n",
              "      <td>0.0</td>\n",
              "      <td>11.0</td>\n",
              "      <td>5.0</td>\n",
              "      <td>4.0</td>\n",
              "    </tr>\n",
              "  </tbody>\n",
              "</table>\n",
              "</div>\n",
              "      <button class=\"colab-df-convert\" onclick=\"convertToInteractive('df-5bbf0b45-0ade-4db0-8631-201143de99bd')\"\n",
              "              title=\"Convert this dataframe to an interactive table.\"\n",
              "              style=\"display:none;\">\n",
              "        \n",
              "  <svg xmlns=\"http://www.w3.org/2000/svg\" height=\"24px\"viewBox=\"0 0 24 24\"\n",
              "       width=\"24px\">\n",
              "    <path d=\"M0 0h24v24H0V0z\" fill=\"none\"/>\n",
              "    <path d=\"M18.56 5.44l.94 2.06.94-2.06 2.06-.94-2.06-.94-.94-2.06-.94 2.06-2.06.94zm-11 1L8.5 8.5l.94-2.06 2.06-.94-2.06-.94L8.5 2.5l-.94 2.06-2.06.94zm10 10l.94 2.06.94-2.06 2.06-.94-2.06-.94-.94-2.06-.94 2.06-2.06.94z\"/><path d=\"M17.41 7.96l-1.37-1.37c-.4-.4-.92-.59-1.43-.59-.52 0-1.04.2-1.43.59L10.3 9.45l-7.72 7.72c-.78.78-.78 2.05 0 2.83L4 21.41c.39.39.9.59 1.41.59.51 0 1.02-.2 1.41-.59l7.78-7.78 2.81-2.81c.8-.78.8-2.07 0-2.86zM5.41 20L4 18.59l7.72-7.72 1.47 1.35L5.41 20z\"/>\n",
              "  </svg>\n",
              "      </button>\n",
              "      \n",
              "  <style>\n",
              "    .colab-df-container {\n",
              "      display:flex;\n",
              "      flex-wrap:wrap;\n",
              "      gap: 12px;\n",
              "    }\n",
              "\n",
              "    .colab-df-convert {\n",
              "      background-color: #E8F0FE;\n",
              "      border: none;\n",
              "      border-radius: 50%;\n",
              "      cursor: pointer;\n",
              "      display: none;\n",
              "      fill: #1967D2;\n",
              "      height: 32px;\n",
              "      padding: 0 0 0 0;\n",
              "      width: 32px;\n",
              "    }\n",
              "\n",
              "    .colab-df-convert:hover {\n",
              "      background-color: #E2EBFA;\n",
              "      box-shadow: 0px 1px 2px rgba(60, 64, 67, 0.3), 0px 1px 3px 1px rgba(60, 64, 67, 0.15);\n",
              "      fill: #174EA6;\n",
              "    }\n",
              "\n",
              "    [theme=dark] .colab-df-convert {\n",
              "      background-color: #3B4455;\n",
              "      fill: #D2E3FC;\n",
              "    }\n",
              "\n",
              "    [theme=dark] .colab-df-convert:hover {\n",
              "      background-color: #434B5C;\n",
              "      box-shadow: 0px 1px 3px 1px rgba(0, 0, 0, 0.15);\n",
              "      filter: drop-shadow(0px 1px 2px rgba(0, 0, 0, 0.3));\n",
              "      fill: #FFFFFF;\n",
              "    }\n",
              "  </style>\n",
              "\n",
              "      <script>\n",
              "        const buttonEl =\n",
              "          document.querySelector('#df-5bbf0b45-0ade-4db0-8631-201143de99bd button.colab-df-convert');\n",
              "        buttonEl.style.display =\n",
              "          google.colab.kernel.accessAllowed ? 'block' : 'none';\n",
              "\n",
              "        async function convertToInteractive(key) {\n",
              "          const element = document.querySelector('#df-5bbf0b45-0ade-4db0-8631-201143de99bd');\n",
              "          const dataTable =\n",
              "            await google.colab.kernel.invokeFunction('convertToInteractive',\n",
              "                                                     [key], {});\n",
              "          if (!dataTable) return;\n",
              "\n",
              "          const docLinkHtml = 'Like what you see? Visit the ' +\n",
              "            '<a target=\"_blank\" href=https://colab.research.google.com/notebooks/data_table.ipynb>data table notebook</a>'\n",
              "            + ' to learn more about interactive tables.';\n",
              "          element.innerHTML = '';\n",
              "          dataTable['output_type'] = 'display_data';\n",
              "          await google.colab.output.renderOutput(dataTable, element);\n",
              "          const docLink = document.createElement('div');\n",
              "          docLink.innerHTML = docLinkHtml;\n",
              "          element.appendChild(docLink);\n",
              "        }\n",
              "      </script>\n",
              "    </div>\n",
              "  </div>\n",
              "  "
            ]
          },
          "metadata": {},
          "execution_count": 11
        }
      ]
    },
    {
      "cell_type": "code",
      "source": [
        "# looking at the target's distribution, is it imbalanced?\n",
        "data['target'].value_counts()/len(data)"
      ],
      "metadata": {
        "colab": {
          "base_uri": "https://localhost:8080/"
        },
        "id": "auwGgyvLqf-M",
        "outputId": "2dcc9625-8b2c-448e-cc97-c28e936162ad"
      },
      "execution_count": null,
      "outputs": [
        {
          "output_type": "execute_result",
          "data": {
            "text/plain": [
              "0.0    0.899\n",
              "1.0    0.101\n",
              "Name: target, dtype: float64"
            ]
          },
          "metadata": {},
          "execution_count": 12
        }
      ]
    },
    {
      "cell_type": "markdown",
      "source": [
        "### Missing data"
      ],
      "metadata": {
        "id": "xFEZ4oLY9SHP"
      }
    },
    {
      "cell_type": "code",
      "source": [
        "# number of missing data per columns\n",
        "data.isna().sum()\n",
        "\n",
        "#percent of missing data per column\n",
        "data.isna().sum()/len(data)\n"
      ],
      "metadata": {
        "id": "dv2BQV2reBCM"
      },
      "execution_count": null,
      "outputs": []
    },
    {
      "cell_type": "code",
      "source": [
        "# looking at data types: \n",
        "#creating lists of column names, for string/boolean and numerical values (excluding the target feature)\n",
        "\n",
        "#numerical_cols = df[:len(df)-1].describe().columns.tolist()\n",
        "#categorical_cols = df[:len(df)-1].select_dtypes(exclude=np.number).columns.tolist()\n",
        "\n",
        "numerical_cols = data[:len(data)-1].select_dtypes(include=np.number).columns.tolist()\n",
        "#categorical_cols = df[:len(df)-1].select_dtypes(exclude=np.number).columns.tolist()\n",
        "categorical_cols = [x for x in data.columns if x not in numerical_cols and x!='target']\n",
        "\n",
        "print(\"The dataset contains \" +str(len(numerical_cols))+ ' numerical features')\n",
        "print(\"The dataset contains \" +str(len(categorical_cols))+ ' categorical features')"
      ],
      "metadata": {
        "colab": {
          "base_uri": "https://localhost:8080/"
        },
        "id": "UbNZzoB8vJG5",
        "outputId": "abf19e2a-8ce4-475d-d37f-d1b082ebac10"
      },
      "execution_count": null,
      "outputs": [
        {
          "output_type": "stream",
          "name": "stdout",
          "text": [
            "The dataset contains 22 numerical features\n",
            "The dataset contains 0 categorical features\n"
          ]
        }
      ]
    },
    {
      "cell_type": "code",
      "source": [
        "data.head()"
      ],
      "metadata": {
        "id": "0nn1slQC7KyU"
      },
      "execution_count": null,
      "outputs": []
    },
    {
      "cell_type": "code",
      "source": [
        "\n",
        "# visualizing features' distribution with histograms to identify outliers and out-of-range values\n",
        "# some numerical features may actually be categorical, their distribution is binary or discrete with few values\n",
        "# features with a highly asymmetric distribution may need to be transformed or discretized \n",
        "data.hist(bins=50, figsize=(15,10))\n",
        "plt.show()\n",
        "\n"
      ],
      "metadata": {
        "colab": {
          "base_uri": "https://localhost:8080/",
          "height": 607
        },
        "id": "584TIRre0RJ6",
        "outputId": "8031a70b-9f28-4c3b-b23d-f862f0551054"
      },
      "execution_count": null,
      "outputs": [
        {
          "output_type": "display_data",
          "data": {
            "text/plain": [
              "<Figure size 1080x720 with 25 Axes>"
            ],
            "image/png": "[encoded data removed]"
          },
          "metadata": {
            "needs_background": "light"
          }
        }
      ]
    },
    {
      "cell_type": "markdown",
      "source": [
        "Looks like there are a lot of binary or categorical features. \n",
        "Features 14 and 19 are a bit skewed, and features 20 and 21 are heavily skewed, with a long left tail. Features 15 and 16 seem to have been capped, and they may need to be discretized.\n",
        "Feature 7 has one class that is very small (1.7%) and should be handled."
      ],
      "metadata": {
        "id": "e2dS1IzHUbx5"
      }
    },
    {
      "cell_type": "code",
      "source": [
        "data['7'].value_counts()"
      ],
      "metadata": {
        "colab": {
          "base_uri": "https://localhost:8080/"
        },
        "id": "TaCFRUMICuLp",
        "outputId": "a946b85c-ca0f-4717-b725-458d119a008a"
      },
      "execution_count": null,
      "outputs": [
        {
          "output_type": "execute_result",
          "data": {
            "text/plain": [
              "0.0    8216\n",
              "2.0    1606\n",
              "1.0     178\n",
              "Name: 7, dtype: int64"
            ]
          },
          "metadata": {},
          "execution_count": 30
        }
      ]
    },
    {
      "cell_type": "code",
      "source": [
        "# column 7- unifying the small category 1 (1.7%) with the most frequent category- 0\n",
        "# category 2 is renamed 1\n",
        "# categories 0 and 1 are renamed 0\n",
        "data['7'] = np.where(data['7']==2, 1, 0)\n",
        "\n",
        "# identifying catergorical/numerical features\n",
        "# choosing features that have up to 4 unique values\n",
        "categorical_cols = [col for col in data.columns if len(data[col].unique()) <= 4 and col!='target']\n",
        "\n",
        "# identifying binary features, since they will not require one-hot encoding later on\n",
        "binary_cols = [col for col in categorical_cols if len(data[col].unique()) == 2]\n",
        "\n",
        "\n",
        "#creating a list of numerical features \n",
        "numerical_cols = [col for col in data.columns if col not in categorical_cols and col!='target']\n",
        "numerical_cols\n",
        "\n"
      ],
      "metadata": {
        "colab": {
          "base_uri": "https://localhost:8080/"
        },
        "id": "z37nOeaWSLCh",
        "outputId": "10d34d81-88de-4020-8804-5fb9c1a1ac46"
      },
      "execution_count": null,
      "outputs": [
        {
          "output_type": "execute_result",
          "data": {
            "text/plain": [
              "['4', '14', '15', '16', '19', '20', '21']"
            ]
          },
          "metadata": {},
          "execution_count": 6
        }
      ]
    },
    {
      "cell_type": "code",
      "source": [
        "binary_cols"
      ],
      "metadata": {
        "colab": {
          "base_uri": "https://localhost:8080/"
        },
        "id": "jh3xdyyg7iXP",
        "outputId": "bbb8d364-a6b4-4182-eb53-54ee14461966"
      },
      "execution_count": null,
      "outputs": [
        {
          "output_type": "execute_result",
          "data": {
            "text/plain": [
              "['1', '2', '3', '5', '6', '7', '8', '9', '10', '11', '12', '13', '17', '18']"
            ]
          },
          "metadata": {},
          "execution_count": 12
        }
      ]
    },
    {
      "cell_type": "code",
      "source": [
        "# looking closely at the distribution of 15 and 16\n",
        "plt.hist(data['15'])\n",
        "#plt.hist(data['16'])\n"
      ],
      "metadata": {
        "id": "07uqD1F-iCrp",
        "colab": {
          "base_uri": "https://localhost:8080/",
          "height": 334
        },
        "outputId": "6552ce0b-a967-495c-d887-a61f3ee8cb28"
      },
      "execution_count": null,
      "outputs": [
        {
          "output_type": "execute_result",
          "data": {
            "text/plain": [
              "(array([7058.,  859.,  287.,  260.,  128.,  239.,  149.,   48.,   54.,\n",
              "         918.]),\n",
              " array([ 0.,  3.,  6.,  9., 12., 15., 18., 21., 24., 27., 30.]),\n",
              " <a list of 10 Patch objects>)"
            ]
          },
          "metadata": {},
          "execution_count": 30
        },
        {
          "output_type": "display_data",
          "data": {
            "text/plain": [
              "<Figure size 432x288 with 1 Axes>"
            ],
            "image/png": "[encoded data removed]"
          },
          "metadata": {
            "needs_background": "light"
          }
        }
      ]
    },
    {
      "cell_type": "markdown",
      "source": [
        "It's pretty much the same distribution, we will need to check the correlation between them later"
      ],
      "metadata": {
        "id": "oqfQEUIOWlrA"
      }
    },
    {
      "cell_type": "markdown",
      "source": [
        "## Data cleaning"
      ],
      "metadata": {
        "id": "PySdRWuclg1_"
      }
    },
    {
      "cell_type": "markdown",
      "source": [
        "# Train-test split"
      ],
      "metadata": {
        "id": "BibPz0qxaEeb"
      }
    },
    {
      "cell_type": "code",
      "source": [
        "#train-test split (stratified split)\n",
        "np.random.seed(42)\n",
        "split = StratifiedShuffleSplit(n_splits=1, test_size=0.2, random_state=42)\n",
        "for train_index, test_index in split.split(data, data[\"target\"]):\n",
        "    train_set = data.iloc[train_index]\n",
        "    test_set = data.iloc[test_index]\n",
        "\n",
        "len(train_set)\n",
        "len(test_set)"
      ],
      "metadata": {
        "id": "kbgkohQCqoL8",
        "colab": {
          "base_uri": "https://localhost:8080/"
        },
        "outputId": "51ea8743-95ac-4b67-ab65-76ce6ad410a6"
      },
      "execution_count": null,
      "outputs": [
        {
          "output_type": "execute_result",
          "data": {
            "text/plain": [
              "2000"
            ]
          },
          "metadata": {},
          "execution_count": 7
        }
      ]
    },
    {
      "cell_type": "markdown",
      "source": [
        "# EDA"
      ],
      "metadata": {
        "id": "P4FoXVCgaJO5"
      }
    },
    {
      "cell_type": "code",
      "source": [
        "#create a copy of the train set\n",
        "df=train_set.copy()\n",
        "df.head()"
      ],
      "metadata": {
        "id": "uaPcV1NV2FGy"
      },
      "execution_count": null,
      "outputs": []
    },
    {
      "cell_type": "code",
      "source": [
        "df.shape"
      ],
      "metadata": {
        "colab": {
          "base_uri": "https://localhost:8080/"
        },
        "id": "q-Bm-MOOSMo3",
        "outputId": "ffaa4f9f-544e-47f0-8d97-3506890421ce"
      },
      "execution_count": null,
      "outputs": [
        {
          "output_type": "execute_result",
          "data": {
            "text/plain": [
              "(8000, 22)"
            ]
          },
          "metadata": {},
          "execution_count": 33
        }
      ]
    },
    {
      "cell_type": "markdown",
      "source": [
        "### Numerical features"
      ],
      "metadata": {
        "id": "9XSRDHjW8Mfn"
      }
    },
    {
      "cell_type": "code",
      "source": [
        "#correlations between the target and top 10 features\n",
        "\n",
        "corr = df.corr()\n",
        "corr_with_target = corr[['target']].drop('target', axis=0)\n",
        "corr_with_target['abs_value'] = corr_with_target.abs()\n",
        "# creating a list of the 10 features which have the highest correlations (in absolute value) to the target\n",
        "corr_with_target.sort_values(by='abs_value', ascending=False).head(20).drop('abs_value',axis=1)\n"
      ],
      "metadata": {
        "id": "6hC4aMzb2mUP"
      },
      "execution_count": null,
      "outputs": []
    },
    {
      "cell_type": "code",
      "source": [
        "# finding the features whose correlation with the target is greater than 0.05\n",
        "best_features_by_correlation = corr_with_target[corr_with_target.abs_value>0.05].index.values\n",
        "best_features_by_correlation"
      ],
      "metadata": {
        "id": "6wlIbv9LpJaL"
      },
      "execution_count": null,
      "outputs": []
    },
    {
      "cell_type": "code",
      "source": [
        "# visualizing numerical features by target, using boxplots\n",
        "\n",
        "#%matplotlib inline\n",
        "plt.figure(figsize=(30,5))\n",
        "for i,col in enumerate(numerical_cols[:-1]):\n",
        "    plt.subplot(1,len(numerical_cols),i+1)\n",
        "    sns.boxplot(data=df, x='target',y=col)"
      ],
      "metadata": {
        "id": "29S8NAX8q8JJ"
      },
      "execution_count": null,
      "outputs": []
    },
    {
      "cell_type": "code",
      "source": [
        "# linear and non-linear correlations between numerical features \n",
        "\n",
        "scatter_matrix(df[numerical_cols], figsize=(17, 12))\n",
        "#scatter_matrix(df[best_features_by_correlation], figsize=(12,8))"
      ],
      "metadata": {
        "id": "sHVhNTYMhakh"
      },
      "execution_count": null,
      "outputs": []
    },
    {
      "cell_type": "code",
      "source": [
        "\n",
        "# correlations between numerical features:\n",
        "# visualizing correlations using correlation heatmap\n",
        "# are there visible clusters or multicolinearity? \n",
        "# (multicollinearity can lead to an unstable model in Logistic regression)\n",
        "cor_matrix = df[numerical_cols].corr()\n",
        "\n",
        "plt.figure(figsize=(12,8))\n",
        "ax = sns.heatmap(\n",
        "    cor_matrix, \n",
        "    vmin=-1, vmax=1, center=0,\n",
        "    cmap=sns.diverging_palette(20, 220, n=200),\n",
        "    square=True\n",
        ")\n",
        "ax.set_xticklabels(\n",
        "    ax.get_xticklabels(),\n",
        "    rotation=45,\n",
        "    horizontalalignment='right'\n",
        ")\n",
        "\n",
        "#figure(figsize=(30, 20))"
      ],
      "metadata": {
        "id": "hqzEqq93Dz1y",
        "colab": {
          "base_uri": "https://localhost:8080/",
          "height": 622
        },
        "outputId": "e71e9276-cd7c-4622-de7e-71c4a95bc557"
      },
      "execution_count": null,
      "outputs": [
        {
          "output_type": "execute_result",
          "data": {
            "text/plain": [
              "[Text(0.5, 0, '4'),\n",
              " Text(1.5, 0, '14'),\n",
              " Text(2.5, 0, '15'),\n",
              " Text(3.5, 0, '16'),\n",
              " Text(4.5, 0, '19'),\n",
              " Text(5.5, 0, '20'),\n",
              " Text(6.5, 0, '21')]"
            ]
          },
          "metadata": {},
          "execution_count": 13
        },
        {
          "output_type": "display_data",
          "data": {
            "text/plain": [
              "<Figure size 864x576 with 2 Axes>"
            ],
            "image/png": "[encoded data removed]"
          },
          "metadata": {
            "needs_background": "light"
          }
        }
      ]
    },
    {
      "cell_type": "code",
      "source": [
        "# another correaltion matrix heatmap- with correlation size on each cell\n",
        "corr = df[numerical_cols].corr()\n",
        "cmap = sns.diverging_palette(220, 10, as_cmap=True) # In sns.heatmap it will be the mapping from data values to color space\n",
        "# Generate a mask for the upper triangle\n",
        "mask = np.zeros_like(corr, dtype=np.bool)\n",
        "\n",
        "# Set up the matplotlib figure\n",
        "f, ax = plt.subplots(figsize=(12,8))\n",
        "# Draw the heatmap with the mask and correct aspect ratio\n",
        "sns.heatmap(corr, mask=mask, cmap=cmap, vmax=.3, center=0, annot = True, # mask -If passed, data will not be shown in cells where mask is True. vmax and center are for setting the colormap values \n",
        "            square=True, linewidths=.5, cbar_kws={\"shrink\": .5});"
      ],
      "metadata": {
        "colab": {
          "base_uri": "https://localhost:8080/",
          "height": 558
        },
        "id": "hSAONStFIS6J",
        "outputId": "4d771725-5038-4c2d-bb88-eb3807d146c5"
      },
      "execution_count": null,
      "outputs": [
        {
          "output_type": "stream",
          "name": "stderr",
          "text": [
            "/usr/local/lib/python3.7/dist-packages/ipykernel_launcher.py:5: DeprecationWarning: `np.bool` is a deprecated alias for the builtin `bool`. To silence this warning, use `bool` by itself. Doing this will not modify any behavior and is safe. If you specifically wanted the numpy scalar type, use `np.bool_` here.\n",
            "Deprecated in NumPy 1.20; for more details and guidance: https://numpy.org/devdocs/release/1.20.0-notes.html#deprecations\n",
            "  \"\"\"\n"
          ]
        },
        {
          "output_type": "display_data",
          "data": {
            "text/plain": [
              "<Figure size 864x576 with 2 Axes>"
            ],
            "image/png": "[encoded data removed]"
          },
          "metadata": {
            "needs_background": "light"
          }
        }
      ]
    },
    {
      "cell_type": "code",
      "source": [
        "# finding variables which are strongly correlated to each other\n",
        "# looking at the top 10 pairs of correlated variables\n",
        "\n",
        "# top 10 pairs + correlation plot\n",
        "features = df.columns.tolist()\n",
        "plot_correlation_matrix(df, features)\n"
      ],
      "metadata": {
        "id": "i7zADtQyUGYH"
      },
      "execution_count": null,
      "outputs": []
    },
    {
      "cell_type": "code",
      "source": [
        "#non-normally distributed features (14, 19, 20, 21): \n",
        "# applying transformations log, square and cubic root and box-cox to achieve a distribution that is approximately normal\n",
        " \n",
        "#plt.hist(np.sqrt(df['14']))\n",
        "#plt.xlabel(\"feature 14 with log transformation\")\n",
        "#plt.hist(df['19'])\n",
        "plt.hist(boxcox(df['19']))"
      ],
      "metadata": {
        "id": "M6_x-2_GnagP"
      },
      "execution_count": null,
      "outputs": []
    },
    {
      "cell_type": "code",
      "source": [
        "#applying transformations on features 20 and 21 to achieve a distribution that is approximately normal\n",
        "plt.hist(np.log(df['21']))\n",
        "plt.xlabel(\"feature 20 with log transformation\")\n",
        "#plt.hist(df['19'])"
      ],
      "metadata": {
        "colab": {
          "base_uri": "https://localhost:8080/",
          "height": 296
        },
        "id": "UhEbUUrot66F",
        "outputId": "da86415f-cb40-4a8d-dc43-892c02769f57"
      },
      "execution_count": null,
      "outputs": [
        {
          "output_type": "execute_result",
          "data": {
            "text/plain": [
              "Text(0.5, 0, 'feature 20 with log transformation')"
            ]
          },
          "metadata": {},
          "execution_count": 102
        },
        {
          "output_type": "display_data",
          "data": {
            "text/plain": [
              "<Figure size 432x288 with 1 Axes>"
            ],
            "image/png": "[encoded data removed]"
          },
          "metadata": {
            "needs_background": "light"
          }
        }
      ]
    },
    {
      "cell_type": "markdown",
      "source": [
        "Log transformation works well for feature 14, box-cox for feature 19. features 20 and 21 did not respond well to log, square or cubic root or box-cox transformations."
      ],
      "metadata": {
        "id": "IFPax5Y2ogh2"
      }
    },
    {
      "cell_type": "code",
      "source": [
        "# discretizing features 15 \n",
        "\n",
        "# trying a few options for discretization\n",
        "df['15_binary'] = np.where(df['15']<=1, 0,1)\n",
        "df['15_cat'] = np.where(df['15']<=1, 0, np.where(df['15']<25, 1,2))\n",
        "df['15_cat'].value_counts()/len(df)\n",
        "\n",
        "# testing which option is the best predictor of the target\n",
        "cor15 = df[['15', '15_binary', '15_cat', 'target']].corr()  \n",
        "cor15['target']\n"
      ],
      "metadata": {
        "colab": {
          "base_uri": "https://localhost:8080/"
        },
        "id": "xgB0DgW5o4Hu",
        "outputId": "a04ac597-0b0b-4dd8-cba5-c56ab9acb5a6"
      },
      "execution_count": null,
      "outputs": [
        {
          "output_type": "execute_result",
          "data": {
            "text/plain": [
              "15           0.087296\n",
              "15_binary    0.051569\n",
              "15_cat       0.072059\n",
              "target       1.000000\n",
              "Name: target, dtype: float64"
            ]
          },
          "metadata": {},
          "execution_count": 78
        }
      ]
    },
    {
      "cell_type": "markdown",
      "source": [
        "feature 15: The discretized feature  (bins: 1, 2-24, 25+) is nearly as good as the non-nonrmally distributed original feature."
      ],
      "metadata": {
        "id": "uJ8K7Dzwr3jW"
      }
    },
    {
      "cell_type": "code",
      "source": [
        "# discretizing features 16 \n",
        "plt.hist(df['16'])\n",
        "# trying a few options for discretization\n",
        "df['16_binary'] = np.where(df['16']<=1, 0,1)\n",
        "df['16_cat'] = np.where(df['16']<=1, 0, np.where(df['15']<25, 1,2))\n",
        "df['16_cat'].value_counts()/len(df)\n",
        "\n",
        "# testing which option is the best predictor of the target\n",
        "cor16 = df[['16', '16_binary', '16_cat', 'target']].corr()  \n",
        "cor16['target']"
      ],
      "metadata": {
        "colab": {
          "base_uri": "https://localhost:8080/",
          "height": 352
        },
        "id": "TFaHRJszrfef",
        "outputId": "85334246-c678-475c-f682-c618374d62a9"
      },
      "execution_count": null,
      "outputs": [
        {
          "output_type": "execute_result",
          "data": {
            "text/plain": [
              "16           0.191110\n",
              "16_binary    0.145217\n",
              "16_cat       0.151611\n",
              "target       1.000000\n",
              "Name: target, dtype: float64"
            ]
          },
          "metadata": {},
          "execution_count": 88
        },
        {
          "output_type": "display_data",
          "data": {
            "text/plain": [
              "<Figure size 432x288 with 1 Axes>"
            ],
            "image/png": "[encoded data removed]"
          },
          "metadata": {
            "needs_background": "light"
          }
        }
      ]
    },
    {
      "cell_type": "markdown",
      "source": [
        "Feature 16: the binarized/discretized features are less precitive compared to the original feature."
      ],
      "metadata": {
        "id": "bHDFgoPysLs4"
      }
    },
    {
      "cell_type": "markdown",
      "source": [
        "### Categorical features"
      ],
      "metadata": {
        "id": "FSN-wOfTGxXx"
      }
    },
    {
      "cell_type": "code",
      "source": [
        "# describing the distribution of categorical features with category frequencies\n",
        "# noticing infrequent/similar categories that should be unified, and missing values\n",
        "\n",
        "describe_categorical_values(df, non_interesting_columns=numerical_cols, num_categories=6)"
      ],
      "metadata": {
        "id": "GjsvAPrVFhqA"
      },
      "execution_count": null,
      "outputs": []
    },
    {
      "cell_type": "code",
      "source": [
        "\n",
        "# looking at the correlation between categorical features and the target using cross-tables\n",
        "# plotting the percent of target=1 in each category for each categorical feature\n",
        "num_rows = len(categorical_cols)//3 + 1\n",
        "fig, ax = plt.subplots(num_rows, 3, figsize=(20, 60))\n",
        "for col, subplot in zip(categorical_cols, ax.flatten()):\n",
        "  table=pd.crosstab(df[col], df['target'], normalize='index')\n",
        "  plt.bar(x=table.index, height=table[1])\n",
        "for label in subplot.get_xticklabels():\n",
        "        label.set_rotation(90)"
      ],
      "metadata": {
        "id": "mxfW6Xlgp1Dg"
      },
      "execution_count": null,
      "outputs": []
    },
    {
      "cell_type": "code",
      "source": [
        "# looking at the correlation between categorical features and the target using cross-tables\n",
        "for col in categorical_cols:\n",
        "  print(pd.crosstab(df[col], df['target'], normalize='index').round(2))"
      ],
      "metadata": {
        "id": "7ZvWGncptg2I"
      },
      "execution_count": null,
      "outputs": []
    },
    {
      "cell_type": "markdown",
      "source": [
        "All features seem to have different probabilities for the positive class for each category.\n",
        "Some predictors have a big difference (feature 6: the probaility of target=1 is 0.38 for class 1 vs. 0.9 for class 0) and some do not (feature 9: 0.11 for class 0 and 0.10 for class 1).\n",
        "\n",
        "Features 1,2,3,6 and 17 look promising while features 9,10,11 and 13 seem redundant in respect to target prediction.\n"
      ],
      "metadata": {
        "id": "BVM9Nd6raQFo"
      }
    },
    {
      "cell_type": "code",
      "source": [
        "#categorical_cols\n",
        "df.columns"
      ],
      "metadata": {
        "id": "5cntmA5_b7_4"
      },
      "execution_count": null,
      "outputs": []
    },
    {
      "cell_type": "code",
      "source": [
        "# testing the correlations between target and all features (t-test for numerical vars and chi-squared test for categorical vars)\n",
        "#!pip install tableone\n",
        "mytable = TableOne(df, #columns=numerical_cols, \n",
        "                   categorical=categorical_cols, \n",
        "                   groupby='target', pval=True)\n",
        "\n",
        "print(mytable.tabulate(tablefmt = \"fancy_grid\"))"
      ],
      "metadata": {
        "id": "hj6jKZ3B_2xx"
      },
      "execution_count": null,
      "outputs": []
    },
    {
      "cell_type": "markdown",
      "source": [
        "Feature 9 is not statistically significant"
      ],
      "metadata": {
        "id": "MrqQyEWBekVi"
      }
    },
    {
      "cell_type": "markdown",
      "source": [
        "#Pre-processing"
      ],
      "metadata": {
        "id": "1X_dzQqtj479"
      }
    },
    {
      "cell_type": "code",
      "source": [
        "# separating the target and the features of the train and the test sets\n",
        "train_set = train_set.reset_index(drop=True)\n",
        "train_x = train_set.drop(\"target\", axis=1)\n",
        "train_y = train_set[\"target\"].copy()\n",
        "\n",
        "test_set = test_set.reset_index(drop=True)\n",
        "test_x = test_set.drop(\"target\", axis=1)\n",
        "test_y = test_set[\"target\"].copy()"
      ],
      "metadata": {
        "id": "P3suuTpTW5c3"
      },
      "execution_count": null,
      "outputs": []
    },
    {
      "cell_type": "markdown",
      "source": [
        "preprocessing checklist:\n",
        "\n",
        "* **imputation** (SimpleImputer, KNNImputer, )\n",
        "* **transformation**: sqrt, log, cubic root (FunctionTransformer)\n",
        "* **feature engineering** (custom)\n",
        "* **discretization** (binarizer, kbinsdiscretizer, better with domain knowledge)\n",
        "* **ploynomial features** (PolynomialFeatures)\n",
        "* **scaling** (minmaxscaler (0-1, sensitive to outliers), standard scaler)\n",
        "* **OHE** (onehotencoding)\n",
        "* **selection** (SelectKbest, ColumnTransformer drop/passthrough)\n",
        "* **oversampling** (SMOTE)\n",
        "* **undersampling** (RandomUnderSampler)"
      ],
      "metadata": {
        "id": "cuMC9KjkkVLP"
      }
    },
    {
      "cell_type": "code",
      "source": [
        "# creating a pipeline for pre-processing\n",
        "\n",
        "#basic processing \n",
        "\n",
        "#creating a pipeline for numerical features\n",
        "num_pipeline = Pipeline([\n",
        "        ('impute', SimpleImputer(strategy='median')),\n",
        "        ('scale', MinMaxScaler()),\n",
        "    ])\n",
        "\n",
        "# creating a pipeline for categorical features\n",
        "cat_pipeline = Pipeline([\n",
        "    ('impute', SimpleImputer(strategy='most_frequent')),\n",
        "    #('ohe', OneHotEncoder()),\n",
        "])\n",
        "\n",
        "# both pipeline combined\n",
        "preprocessing_pipeline = ColumnTransformer([\n",
        "        (\"num\", num_pipeline, numerical_cols),\n",
        "        (\"cat\", cat_pipeline, categorical_cols),\n",
        "    ])"
      ],
      "metadata": {
        "id": "0RHl7s5T1qZz"
      },
      "execution_count": null,
      "outputs": []
    },
    {
      "cell_type": "markdown",
      "source": [
        "# Model training"
      ],
      "metadata": {
        "id": "eD3kweMJZ29b"
      }
    },
    {
      "cell_type": "markdown",
      "source": [
        "## Logistic regression model"
      ],
      "metadata": {
        "id": "xo7WSt63OQ1s"
      }
    },
    {
      "cell_type": "code",
      "source": [
        "# defining a logistic regression model suited for imbalanced classes\n",
        "trf_model = LogisticRegression(class_weight='balanced')\n",
        "\n",
        "# the final pipeline, including a logistic regression model\n",
        "full_pipeline = Pipeline([('processing', preprocessing_pipeline),\n",
        "                         #('selecting', SelectKBest(k=30)),\n",
        "                          ('model', trf_model)\n",
        "                        ])\n",
        "\n",
        "# training the model with a stratified 5-fold cross-validation\n",
        "# the chosen metrics are precision, recall and ROC AUC\n",
        "for scoring in ['roc_auc', 'recall', 'precision']:\n",
        "    cv = RepeatedStratifiedKFold(n_splits=5, n_repeats=1, random_state=0)\n",
        "    scores = cross_val_score(full_pipeline, train_x, train_y, scoring=scoring, cv=cv, n_jobs=-1)\n",
        "    print(\"Model \", scoring, \" mean=\", round(scores.mean(), 2), \"stddev=\", round(scores.std(), 2))"
      ],
      "metadata": {
        "colab": {
          "base_uri": "https://localhost:8080/"
        },
        "id": "URtDVzNZOKe8",
        "outputId": "f30312e8-2f3b-433b-9404-40738395c08b"
      },
      "execution_count": null,
      "outputs": [
        {
          "output_type": "stream",
          "name": "stdout",
          "text": [
            "Model  roc_auc  mean= 0.83 stddev= 0.01\n",
            "Model  recall  mean= 0.77 stddev= 0.03\n",
            "Model  precision  mean= 0.25 stddev= 0.01\n"
          ]
        }
      ]
    },
    {
      "cell_type": "markdown",
      "source": [
        "the AUC is not bad (0.83), and so is recall (0.77) but precision is low (0.25), which means we have a lot of false positives. For disease detection we would rather have a high false positive rate and a low false negative rate than the other way around, but we could do better."
      ],
      "metadata": {
        "id": "uHFQ7FFMZKXA"
      }
    },
    {
      "cell_type": "markdown",
      "source": [
        "### Logistic regression with polynomial features for numerical features"
      ],
      "metadata": {
        "id": "3-FCVOZWc8wb"
      }
    },
    {
      "cell_type": "code",
      "source": [
        "#adding polynomial features for the numerical features\n",
        "num_pipeline = Pipeline([\n",
        "        ('impute', SimpleImputer(strategy='median')),\n",
        "        ('poly_feats', PolynomialFeatures()),\n",
        "        ('std_scale', MinMaxScaler()),\n",
        "    ])\n",
        "\n",
        "# both pipelines combined\n",
        "preprocessing_pipeline = ColumnTransformer([\n",
        "        (\"num\", num_pipeline, numerical_cols),\n",
        "        (\"cat\", cat_pipeline, categorical_cols),\n",
        "    ])\n",
        "\n",
        "# the final pipeline, including a logistic regression model\n",
        "full_pipeline = Pipeline([('processing', preprocessing_pipeline),\n",
        "                         #('selecting', SelectKBest(k=25)),\n",
        "                          ('model', trf_model)\n",
        "                        ])\n",
        "\n",
        "# training the model with a stratified 5-fold cross-validation\n",
        "# the chosen metrics are precision, recall and ROC AUC\n",
        "for scoring in ['roc_auc', 'recall', 'precision']:\n",
        "    cv = RepeatedStratifiedKFold(n_splits=5, n_repeats=1, random_state=0)\n",
        "    scores = cross_val_score(full_pipeline, train_x, train_y, scoring=scoring, cv=cv, n_jobs=-1)\n",
        "    print(\"Model \", scoring, \" mean=\", round(scores.mean(), 2), \"stddev=\", round(scores.std(), 2))"
      ],
      "metadata": {
        "colab": {
          "base_uri": "https://localhost:8080/"
        },
        "id": "Jqvufs8qdFiy",
        "outputId": "b334b8f4-de9e-4d98-8bed-9fd504b5ad69"
      },
      "execution_count": null,
      "outputs": [
        {
          "output_type": "stream",
          "name": "stdout",
          "text": [
            "Model  roc_auc  mean= 0.8 stddev= 0.01\n",
            "Model  recall  mean= 0.72 stddev= 0.04\n",
            "Model  precision  mean= 0.23 stddev= 0.01\n"
          ]
        }
      ]
    },
    {
      "cell_type": "markdown",
      "source": [
        "### Logistic regression with over-sampling and under-sampling\n"
      ],
      "metadata": {
        "id": "pqKt6_VRs2O7"
      }
    },
    {
      "cell_type": "code",
      "source": [
        "#https://www.analyticsvidhya.com/blog/2020/10/overcoming-class-imbalance-using-smote-techniques/\n",
        "\n",
        "# adding over-sampling of the minority class and random under-sampling of the majority class to improve the model's performance\n",
        "\n",
        "#over and undersampling should be performed only on the train set, as the test set should resemble real data,\n",
        "# and should not be contain synthetic data. \n",
        "# for this reason SMOTE will be applied on the train set outside the pipeline\n",
        "\n",
        "#creating a list of indices for the categorical features\n",
        "categorical_ix = [int(col) for col in binary_cols]\n",
        "categorical_ix\n",
        "\n",
        "#applying over and under sampling on the train set\n",
        "oversample = SMOTENC(sampling_strategy=0.3, categorical_features = categorical_ix)\n",
        "undersample = RandomUnderSampler()\n",
        "train_x_balanced, train_y_balanced = oversample.fit_resample(train_x, train_y)\n",
        "train_x_balanced, train_y_balanced = undersample.fit_resample(train_x_balanced, train_y_balanced)\n",
        "\n",
        "#checking the frequencies of the classes in the target variable, after over and under smapling\n",
        "#train_y_balanced.value_counts()/len(train_y_balanced)\n",
        "#we got a 1:1 ratio\n",
        "\n",
        "# defining a logistic regression model\n",
        "trf_model = LogisticRegression()\n",
        "\n",
        "# the final pipeline, including over-sampling and under-sampling, and a logistic regression model\n",
        "full_pipeline = Pipeline([('processing', preprocessing_pipeline),\n",
        "                          ('model', trf_model)\n",
        "                        ])\n",
        "\n",
        "# training the model with a stratified 5-fold cross-validation\n",
        "# the chosen metrics are precision, recall and ROC AUC\n",
        "for scoring in ['roc_auc', 'recall', 'precision']:\n",
        "    cv = RepeatedStratifiedKFold(n_splits=5, n_repeats=1, random_state=0)\n",
        "    scores = cross_val_score(full_pipeline, train_x_balanced, train_y_balanced, scoring=scoring, cv=cv, n_jobs=-1)\n",
        "    print(\"Model \", scoring, \" mean=\", round(scores.mean(), 2), \"stddev=\", round(scores.std(), 2))"
      ],
      "metadata": {
        "colab": {
          "base_uri": "https://localhost:8080/"
        },
        "id": "0FAIDaP9s73a",
        "outputId": "bf9de474-0083-4ad6-9ea4-9f59ac8a3a3f"
      },
      "execution_count": null,
      "outputs": [
        {
          "output_type": "stream",
          "name": "stdout",
          "text": [
            "Model  roc_auc  mean= 0.87 stddev= 0.01\n",
            "Model  recall  mean= 0.83 stddev= 0.01\n",
            "Model  precision  mean= 0.77 stddev= 0.02\n"
          ]
        }
      ]
    },
    {
      "cell_type": "markdown",
      "source": [
        "The model trained using SMOTE is overfitted. Decreasing the ratio improved overfit slightly,but the model trianed on the original dataset performs better."
      ],
      "metadata": {
        "id": "2FxTlvf_AtTm"
      }
    },
    {
      "cell_type": "markdown",
      "source": [
        "### Random forest classifier"
      ],
      "metadata": {
        "id": "T-N6jME6eDHK"
      }
    },
    {
      "cell_type": "code",
      "source": [
        "# training a random forest classifier, with a hyper-parameter for imbalanced data\n",
        "\n",
        "trf_model = RandomForestClassifier(class_weight=\"balanced\")\n",
        "#trf_model = BalancedRandomForestClassifier(class_weight=\"balanced_subsample\")\n",
        "\n",
        "# the final pipeline, including a random forest model\n",
        "full_pipeline = Pipeline([('processing', preprocessing_pipeline),\n",
        "                          #('select', SelectKBest(k=20)),\n",
        "                          ('model', trf_model)\n",
        "                        ])\n",
        "\n",
        "# training the model with a stratified 5-fold cross-validation\n",
        "for scoring in ['roc_auc', 'recall', 'precision']:\n",
        "    cv = RepeatedStratifiedKFold(n_splits=5, n_repeats=1, random_state=0)\n",
        "    scores = cross_val_score(full_pipeline, train_x, train_y, scoring=scoring, cv=cv, n_jobs=-1)\n",
        "    print(\"Model \", scoring, \" mean=\", round(scores.mean(), 2), \"stddev=\", round(scores.std(), 2))"
      ],
      "metadata": {
        "id": "zROSoG2uPmj8"
      },
      "execution_count": null,
      "outputs": []
    },
    {
      "cell_type": "markdown",
      "source": [
        "very low recall (0.07)"
      ],
      "metadata": {
        "id": "w8lgXKVIbgjD"
      }
    },
    {
      "cell_type": "markdown",
      "source": [
        "### Easy Ensemble (AdaBoost for imbalanced data)"
      ],
      "metadata": {
        "id": "2IUpiw9HRvms"
      }
    },
    {
      "cell_type": "code",
      "source": [
        "# training an ensemble of AdaBoost learners with random under-sampling\n",
        "trf_model = EasyEnsembleClassifier()\n",
        "\n",
        "# the final pipeline, including a random forest model\n",
        "full_pipeline = Pipeline([('impute', SimpleImputer()),\n",
        "                          #('select', SelectKBest(k=20)),\n",
        "                          ('model', trf_model)\n",
        "                        ])\n",
        "\n",
        "# training the model with a stratified 5-fold cross-validation\n",
        "for scoring in ['roc_auc', 'recall', 'precision']:\n",
        "    cv = RepeatedStratifiedKFold(n_splits=5, n_repeats=1, random_state=0)\n",
        "    scores = cross_val_score(full_pipeline, train_x, train_y, scoring=scoring, cv=cv, n_jobs=-1)\n",
        "    print(\"Model \", scoring, \" mean=\", round(scores.mean(), 2), \"stddev=\", round(scores.std(), 2))"
      ],
      "metadata": {
        "id": "7EsuOuIYSSz8"
      },
      "execution_count": null,
      "outputs": []
    },
    {
      "cell_type": "markdown",
      "source": [
        "### SVC (linear)"
      ],
      "metadata": {
        "id": "sItrlBP4SMbU"
      }
    },
    {
      "cell_type": "code",
      "source": [
        "# training a linear support vector machine calssifier\n",
        "trf_model = LinearSVC(class_weight='balanced', dual=False)\n",
        "\n",
        "full_pipeline = Pipeline([('processing', preprocessing_pipeline),\n",
        "                          #('selecting', SelectKBest(k=20)),\n",
        "                          ('model', trf_model)\n",
        "                        ])\n",
        "\n",
        "for scoring in ['roc_auc', 'recall', 'precision']:\n",
        "    cv = RepeatedStratifiedKFold(n_splits=5, n_repeats=1, random_state=0)\n",
        "    scores = cross_val_score(full_pipeline, train_x, train_y, scoring=scoring, cv=cv, n_jobs=-1)\n",
        "    print(\"Model \", scoring, \" mean=\", round(scores.mean(), 2), \"stddev=\", round(scores.std(), 2))"
      ],
      "metadata": {
        "colab": {
          "base_uri": "https://localhost:8080/"
        },
        "id": "lXxOYFrcRLnY",
        "outputId": "3ae90fd0-a9d3-44fa-aee6-d46bb8c7d17d"
      },
      "execution_count": null,
      "outputs": [
        {
          "output_type": "stream",
          "name": "stdout",
          "text": [
            "Model  roc_auc  mean= 0.83 stddev= 0.01\n",
            "Model  recall  mean= 0.78 stddev= 0.02\n",
            "Model  precision  mean= 0.25 stddev= 0.01\n"
          ]
        }
      ]
    },
    {
      "cell_type": "markdown",
      "source": [
        "### SVC (polynomial)"
      ],
      "metadata": {
        "id": "fmQ8EQ6nVcR7"
      }
    },
    {
      "cell_type": "code",
      "source": [
        "#training a support vector machine classifier with a polynomial/rbf kernel\n",
        "trf_model = SVC(class_weight=\"balanced\", kernel='poly')\n",
        "#trf_model = SVC(class_weight=\"balanced\") #rbf kernel\n",
        "\n",
        "full_pipeline = Pipeline([('processing', preprocessing_pipeline),\n",
        "                          #('selecting', SelectKBest(k=20)),\n",
        "                          ('model', trf_model)\n",
        "                        ])\n",
        "\n",
        "for scoring in ['roc_auc', 'recall', 'precision']:\n",
        "    cv = RepeatedStratifiedKFold(n_splits=5, n_repeats=1, random_state=0)\n",
        "    scores = cross_val_score(full_pipeline, train_x, train_y, scoring=scoring, cv=cv, n_jobs=-1)\n",
        "    print(\"Model \", scoring, \" mean=\", round(scores.mean(), 2), \"stddev=\", round(scores.std(), 2))"
      ],
      "metadata": {
        "colab": {
          "base_uri": "https://localhost:8080/"
        },
        "id": "G-PNGAeNVhDL",
        "outputId": "5e070283-2664-44c9-e1b9-b91993cad2ac"
      },
      "execution_count": null,
      "outputs": [
        {
          "output_type": "stream",
          "name": "stdout",
          "text": [
            "Model  roc_auc  mean= 0.79 stddev= 0.01\n",
            "Model  recall  mean= 0.66 stddev= 0.03\n",
            "Model  precision  mean= 0.24 stddev= 0.01\n"
          ]
        }
      ]
    },
    {
      "cell_type": "markdown",
      "source": [
        "### XGBoost"
      ],
      "metadata": {
        "id": "P4Jk5vkbX6Pq"
      }
    },
    {
      "cell_type": "code",
      "source": [
        "#training an Extreme Gradient Boosted trees classifier\n",
        "trf_model = XGBClassifier(scale_pos_weight=20)\n",
        "\n",
        "full_pipeline = Pipeline([('processing', preprocessing_pipeline),\n",
        "                          #('selecting', SelectKBest(k=20)),\n",
        "                          ('model', trf_model)\n",
        "                        ])\n",
        "\n",
        "for scoring in ['roc_auc', 'recall', 'precision']:\n",
        "    cv = RepeatedStratifiedKFold(n_splits=5, n_repeats=1, random_state=0)\n",
        "    scores = cross_val_score(full_pipeline, train_x, train_y, scoring=scoring, cv=cv, n_jobs=-1)\n",
        "    print(\"Model \", scoring, \" mean=\", round(scores.mean(), 2), \"stddev=\", round(scores.std(), 2))"
      ],
      "metadata": {
        "id": "TDkcLEg_YCAi"
      },
      "execution_count": null,
      "outputs": []
    },
    {
      "cell_type": "markdown",
      "source": [
        "### KNN"
      ],
      "metadata": {
        "id": "H8MISMZMYopD"
      }
    },
    {
      "cell_type": "code",
      "source": [
        "#training a K-nearest neighbors classifier\n",
        "trf_model = KNeighborsClassifier(n_neighbors=40)\n",
        "\n",
        "full_pipeline = Pipeline([('processing', preprocessing_pipeline),\n",
        "                          #('selecting', SelectKBest(k=20)),\n",
        "                          ('model', trf_model)\n",
        "                        ])\n",
        "\n",
        "for scoring in ['roc_auc', 'recall', 'precision']:\n",
        "    cv = RepeatedStratifiedKFold(n_splits=5, n_repeats=1, random_state=0)\n",
        "    scores = cross_val_score(full_pipeline, train_x, train_y, scoring=scoring, cv=cv, n_jobs=-1)\n",
        "    print(\"Model \", scoring, \" mean=\", round(scores.mean(), 2), \"stddev=\", round(scores.std(), 2))"
      ],
      "metadata": {
        "colab": {
          "base_uri": "https://localhost:8080/"
        },
        "id": "2YnR775oYqvb",
        "outputId": "a1b2c471-1425-4629-f576-65c0094a5261"
      },
      "execution_count": null,
      "outputs": [
        {
          "output_type": "stream",
          "name": "stdout",
          "text": [
            "Model  roc_auc  mean= 0.8 stddev= 0.01\n",
            "Model  recall  mean= 0.01 stddev= 0.01\n",
            "Model  precision  mean= 0.36 stddev= 0.31\n"
          ]
        }
      ]
    },
    {
      "cell_type": "markdown",
      "source": [
        "# Hyper-parameter tuning\n"
      ],
      "metadata": {
        "id": "OiIqiodbPd68"
      }
    },
    {
      "cell_type": "markdown",
      "source": [
        "The most promising models are:\n",
        "1. Linear SVC (AUC=0.83, recall=0.78, precision=0.25) \n",
        "2. Logistic regression (AUC=0.83, recall=0.77, precision=0.25)\n",
        "3. XGBoost (AUC=0.82, recall=0.88, precision=0.19)\n",
        "\n",
        "We will proceed to improve these models with hyper-parameter tuning, using a cross-validation grid search."
      ],
      "metadata": {
        "id": "HKmt_gYxgDGa"
      }
    },
    {
      "cell_type": "code",
      "source": [
        "#HP tuning for linear SVC model\n",
        "trf_model = LinearSVC(class_weight='balanced', dual=False)\n",
        "\n",
        "svc_pipeline = Pipeline([('processing', preprocessing_pipeline),\n",
        "                          ('model', trf_model)\n",
        "                        ])\n",
        "\n",
        "svc_model = svc_pipeline.fit(train_x, train_y)\n",
        "\n",
        "# hyper parameter tuning\n",
        "params = {'model__C': [1, 10, 100, 1000]}\n",
        "cv = RepeatedStratifiedKFold(n_splits=10, n_repeats=3, random_state=1)\n",
        "grid = GridSearchCV(svc_model, param_grid=params,\n",
        "                    n_jobs=-1, cv=cv, scoring='roc_auc', error_score=0)\n",
        "# params = {'model__n_estimators': [10, 100], 'model__max_features': [1:5]}\n",
        "# grid = GridSearchCV(tree_pipeline, params, cv=5, scoring='f1')\n",
        "grid.fit(train_x, train_y)\n",
        "print(grid.best_score_)\n",
        "#auc=0.637, C=1\n",
        "print(grid.best_params_)\n",
        "\n"
      ],
      "metadata": {
        "colab": {
          "base_uri": "https://localhost:8080/"
        },
        "id": "Io3b1DqOPhV0",
        "outputId": "76890fcb-bdc4-4ba5-9f6b-01519f29f9b9"
      },
      "execution_count": null,
      "outputs": [
        {
          "output_type": "stream",
          "name": "stdout",
          "text": [
            "0.8337881356887138\n",
            "{'model__C': 100}\n"
          ]
        }
      ]
    },
    {
      "cell_type": "code",
      "source": [
        "# HP tuning for logistic regression model\n",
        "\n",
        "trf_model = LogisticRegression(class_weight='balanced')\n",
        "\n",
        "logreg_pipeline = Pipeline([('processing', preprocessing_pipeline),\n",
        "                          ('model', trf_model)\n",
        "                        ])\n",
        "\n",
        "logreg_model = logreg_pipeline.fit(train_x, train_y)\n",
        "\n",
        "cv = RepeatedStratifiedKFold(n_splits=5, n_repeats=1, random_state=0)\n",
        "params = {'model__C': [1,5,10], 'model__penalty':[ 'l2', 'none']}\n",
        "#params = {'model__C': [1,5,10]}\n",
        "#params = {'model__penalty':[ 'none', 'l2']}\n",
        "#params = {'model__penalty': ['l2'], 'model__solver': ['lbfgs', 'liblinear']}\n",
        "grid = GridSearchCV(logreg_model, params, cv=cv, scoring='roc_auc')\n",
        "grid.fit(train_x, train_y)\n",
        "print(grid.best_score_)\n",
        "print(grid.best_params_)"
      ],
      "metadata": {
        "id": "HaZL_745Ty2z"
      },
      "execution_count": null,
      "outputs": []
    },
    {
      "cell_type": "code",
      "source": [
        "# HP tuning for XGBoost\n",
        "trf_model = XGBClassifier(scale_pos_weight=20)\n",
        "\n",
        "xgb_pipeline = Pipeline([('processing', preprocessing_pipeline),\n",
        "                        ('model', trf_model)\n",
        "                        ])\n",
        "\n",
        "xgb_model = xgb_pipeline.fit(train_x, train_y)\n",
        "\n",
        "cv = RepeatedStratifiedKFold(n_splits=5, n_repeats=1, random_state=0)\n",
        "#params = {'model__max_depth': [3,5,7], 'model__learning_rate': [0.1, 0.5]}\n",
        "params = {'model__n_estimators': [10,100,1000]}\n",
        "grid = GridSearchCV(xgb_model, params, cv=cv, scoring='roc_auc')\n",
        "grid.fit(train_x, train_y)\n",
        "print(grid.best_score_)\n",
        "print(grid.best_params_)"
      ],
      "metadata": {
        "id": "DwfFzRr2VT9D"
      },
      "execution_count": null,
      "outputs": []
    },
    {
      "cell_type": "markdown",
      "source": [
        "For all 3 models, the default hyper-parameters showed the best results. We will continue to evaluate the models' performance on the test set."
      ],
      "metadata": {
        "id": "IZEvisUDYVBh"
      }
    },
    {
      "cell_type": "markdown",
      "source": [
        "# Models' performance evaluation"
      ],
      "metadata": {
        "id": "o75Yzn2IYpra"
      }
    },
    {
      "cell_type": "code",
      "source": [
        "# helper functions, for display of ROC curve and model's performance metrics\n",
        "# (based on https://github.com/shirmeir/bubble_plot/blob/master/bubble_plot/utils.py)\n",
        "\n",
        "def find_best_threshold(thresholds, fpr, tpr):\n",
        "    \"\"\"\n",
        "    find the best threshold from the roc curve. by finding the threshold for the point which is closest to (fpr=0,tpr=1)\n",
        "    \"\"\"\n",
        "    fpr_tpr = pd.DataFrame({'thresholds': thresholds, 'fpr': fpr, 'tpr': tpr})\n",
        "    fpr_tpr['dist'] = (fpr_tpr['fpr'])**2 + (fpr_tpr['tpr']-1)**2\n",
        "    return fpr_tpr.loc[fpr_tpr.dist.idxmin(), 'thresholds']\n",
        "\n",
        "def get_model_results(model, train, test, y_train, y_test):\n",
        "    probabilities = model.predict_proba(test)[:,1]\n",
        "    fpr, tpr, thresholds = roc_curve(y_test, probabilities)\n",
        "    threshold = find_best_threshold(thresholds, fpr, tpr)\n",
        "    predictions = probabilities>threshold\n",
        "    plt.figure()\n",
        "    plt.plot(fpr, tpr, label='test')\n",
        "    roc_auc = roc_auc_score(y_test, probabilities)\n",
        "    probabilities = model.predict_proba(train)[:,1]\n",
        "    fpr, tpr, thresholds = roc_curve(y_train, probabilities)\n",
        "    plt.plot(fpr, tpr, label='train')\n",
        "    plt.plot([0, 1], [0, 1], 'r--', label='random guess')\n",
        "    plt.title(\"Area under the ROC curve = {:.3f}\".format(roc_auc), fontsize=18);\n",
        "    print(classification_report(y_test, predictions))\n",
        "    plt.legend()"
      ],
      "metadata": {
        "id": "DQ5kcbImKltg"
      },
      "execution_count": null,
      "outputs": []
    },
    {
      "cell_type": "markdown",
      "source": [
        "## Linear SVC"
      ],
      "metadata": {
        "id": "T_10ZGMJYuw6"
      }
    },
    {
      "cell_type": "code",
      "source": [
        "# SVC with a linear kernel was used here instead of LinearSVC because SVC has a predict_proba method that will allow us to \n",
        "# gain more insight on the model's performance\n",
        "svc_pipeline = Pipeline([('processing', preprocessing_pipeline),\n",
        "                          ('model', SVC(class_weight='balanced', kernel='linear', probability=True))\n",
        "                        ])\n",
        "\n",
        "svc_model = svc_pipeline.fit(train_x, train_y)\n",
        "\n",
        "get_model_results(svc_model, train_x, test_x, train_y, test_y)\n"
      ],
      "metadata": {
        "colab": {
          "base_uri": "https://localhost:8080/",
          "height": 451
        },
        "id": "VWiVumX5YnFK",
        "outputId": "1b0dc9ab-7ff8-4432-eecc-ec13746886ee"
      },
      "execution_count": null,
      "outputs": [
        {
          "output_type": "stream",
          "name": "stdout",
          "text": [
            "              precision    recall  f1-score   support\n",
            "\n",
            "         0.0       0.97      0.72      0.82      1798\n",
            "         1.0       0.24      0.79      0.37       202\n",
            "\n",
            "    accuracy                           0.73      2000\n",
            "   macro avg       0.60      0.75      0.60      2000\n",
            "weighted avg       0.89      0.73      0.78      2000\n",
            "\n"
          ]
        },
        {
          "output_type": "display_data",
          "data": {
            "text/plain": [
              "<Figure size 432x288 with 1 Axes>"
            ],
            "image/png": "[encoded data removed]"
          },
          "metadata": {
            "needs_background": "light"
          }
        }
      ]
    },
    {
      "cell_type": "markdown",
      "source": [
        "## Logistic regression"
      ],
      "metadata": {
        "id": "5Lsgi8eecrKy"
      }
    },
    {
      "cell_type": "code",
      "source": [
        "\n",
        "logreg_pipeline = Pipeline([('processing', preprocessing_pipeline),\n",
        "                          ('model', LogisticRegression())\n",
        "                        ])\n",
        "\n",
        "logreg_model = logreg_pipeline.fit(train_x, train_y)\n",
        "\n",
        "logreg_model.fit(train_x, train_y)\n",
        "get_model_results(logreg_model, train_x, test_x, train_y, test_y)"
      ],
      "metadata": {
        "id": "c3AHMn0KD0V0",
        "colab": {
          "base_uri": "https://localhost:8080/",
          "height": 451
        },
        "outputId": "78c4772c-b3ed-4f31-b737-bacfcb50af8c"
      },
      "execution_count": null,
      "outputs": [
        {
          "output_type": "stream",
          "name": "stdout",
          "text": [
            "              precision    recall  f1-score   support\n",
            "\n",
            "         0.0       0.96      0.78      0.86      1798\n",
            "         1.0       0.27      0.72      0.39       202\n",
            "\n",
            "    accuracy                           0.78      2000\n",
            "   macro avg       0.62      0.75      0.63      2000\n",
            "weighted avg       0.89      0.78      0.82      2000\n",
            "\n"
          ]
        },
        {
          "output_type": "display_data",
          "data": {
            "text/plain": [
              "<Figure size 432x288 with 1 Axes>"
            ],
            "image/png": "[encoded data removed]"
          },
          "metadata": {
            "needs_background": "light"
          }
        }
      ]
    },
    {
      "cell_type": "markdown",
      "source": [
        "## XGBoost"
      ],
      "metadata": {
        "id": "QNQdJfMFdOJB"
      }
    },
    {
      "cell_type": "code",
      "source": [
        "xgb_pipeline = Pipeline([('processing', preprocessing_pipeline),\n",
        "                        ('model', XGBClassifier(scale_pos_weight=10))\n",
        "                        ])\n",
        "\n",
        "xgb_model = xgb_pipeline.fit(train_x, train_y)\n",
        "get_model_results(xgb_model, train_x, test_x, train_y, test_y)"
      ],
      "metadata": {
        "colab": {
          "base_uri": "https://localhost:8080/",
          "height": 451
        },
        "id": "hM7qioQ5dRWp",
        "outputId": "beb61b5d-ad6f-44bf-cabd-ca83b96fb039"
      },
      "execution_count": null,
      "outputs": [
        {
          "output_type": "stream",
          "name": "stdout",
          "text": [
            "              precision    recall  f1-score   support\n",
            "\n",
            "         0.0       0.97      0.73      0.83      1798\n",
            "         1.0       0.24      0.77      0.37       202\n",
            "\n",
            "    accuracy                           0.73      2000\n",
            "   macro avg       0.60      0.75      0.60      2000\n",
            "weighted avg       0.89      0.73      0.78      2000\n",
            "\n"
          ]
        },
        {
          "output_type": "display_data",
          "data": {
            "text/plain": [
              "<Figure size 432x288 with 1 Axes>"
            ],
            "image/png": "[encoded data removed]"
          },
          "metadata": {
            "needs_background": "light"
          }
        }
      ]
    },
    {
      "cell_type": "markdown",
      "source": [
        "All models achieved similar results in terms of ROC AUC, precision and recall.\n",
        " Linear SVC had the highest recall for identifying heart disease (0.8 vs. 0.73 and 0.78). Logistic regression had th ehighest weighted average F-score (0.81 vs. 0.77 and 0.78) and weighted average recall (0.77 vs. 0.72 and 0.72). "
      ],
      "metadata": {
        "id": "me5MGH5ampcY"
      }
    },
    {
      "cell_type": "markdown",
      "source": [
        "# Model interpretation"
      ],
      "metadata": {
        "id": "AokL_PNZr9Gg"
      }
    },
    {
      "cell_type": "code",
      "source": [],
      "metadata": {
        "id": "mqTN8U_Y2LWP"
      },
      "execution_count": null,
      "outputs": []
    },
    {
      "cell_type": "code",
      "source": [
        "# preprocessing train_x with pandas to maintain column names for interpretation\n",
        "impute_num = SimpleImputer(strategy='median')\n",
        "scaler = MinMaxScaler()\n",
        "impute_cat = SimpleImputer(strategy='most_frequent')\n",
        "#ohe = OneHotEncoder(sparse=False)\n",
        "\n",
        "num_x = impute_num.fit_transform(train_x[numerical_cols])\n",
        "num_x = scaler.fit_transform(num_x)\n",
        "\n",
        "cat_x = impute_cat.fit_transform(train_x[categorical_cols])\n",
        "#cat_x = ohe.fit_transform(cat_x)\n",
        "train_x_prepared = pd.concat([pd.DataFrame(num_x, columns=numerical_cols), pd.DataFrame(cat_x, columns=categorical_cols)],axis=1)\n",
        "\n",
        "logreg_pipeline = Pipeline([('processing', preprocessing_pipeline),\n",
        "                          ('model', LogisticRegression(class_weight='balanced'))\n",
        "                        ])\n",
        "\n",
        "logreg_model = logreg_pipeline.fit(train_x, train_y)\n",
        "\n",
        "feature_importance=pd.DataFrame(index=train_x_prepared.columns, data=logreg_model.named_steps['model'].coef_[0])\n",
        "feature_importance['abs_value']=feature_importance.abs()\n",
        "feature_importance.sort_values(by='abs_value')[0].tail(15).plot.barh()\n"
      ],
      "metadata": {
        "colab": {
          "base_uri": "https://localhost:8080/",
          "height": 283
        },
        "id": "Pr0HmoMYr8JA",
        "outputId": "fe186419-564f-4529-c356-5125bb658c90"
      },
      "execution_count": null,
      "outputs": [
        {
          "output_type": "execute_result",
          "data": {
            "text/plain": [
              "<matplotlib.axes._subplots.AxesSubplot at 0x7f2a4648ec50>"
            ]
          },
          "metadata": {},
          "execution_count": 16
        },
        {
          "output_type": "display_data",
          "data": {
            "text/plain": [
              "<Figure size 432x288 with 1 Axes>"
            ],
            "image/png": "[encoded data removed]"
          },
          "metadata": {
            "needs_background": "light"
          }
        }
      ]
    }
  ]
}